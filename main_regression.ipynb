{
 "cells": [
  {
   "cell_type": "code",
   "execution_count": 1,
   "id": "4b664a9b",
   "metadata": {},
   "outputs": [
    {
     "name": "stderr",
     "output_type": "stream",
     "text": [
      "/home/ax-pedro-camara/miniconda3/envs/tcc/lib/python3.13/site-packages/tqdm/auto.py:21: TqdmWarning: IProgress not found. Please update jupyter and ipywidgets. See https://ipywidgets.readthedocs.io/en/stable/user_install.html\n",
      "  from .autonotebook import tqdm as notebook_tqdm\n"
     ]
    }
   ],
   "source": [
    "from sklearn.neural_network import MLPRegressor\n",
    "from sklearn.svm import SVR\n",
    "\n",
    "from sklearn.model_selection import train_test_split, cross_val_score\n",
    "from sklearn.metrics import confusion_matrix, ConfusionMatrixDisplay, r2_score, root_mean_squared_error\n",
    "from sklearn.pipeline import make_pipeline\n",
    "from sklearn.preprocessing import StandardScaler\n",
    "\n",
    "import optuna\n",
    "\n",
    "import matplotlib.pyplot as plt\n",
    "import numpy as np\n",
    "import pandas as pd\n",
    "\n",
    "import os \n",
    "import warnings\n",
    "warnings.filterwarnings(\"ignore\")\n",
    "\n",
    "from utils import *\n",
    "from heuristics import *\n",
    "\n",
    "DATA_PATH = f\"{os.getcwd()}/data\"\n",
    "\n",
    "df_heating = pd.read_excel(f\"{DATA_PATH}/Heating_degree_days_by_census_division.xls\", skiprows=10)\n",
    "df_cooling = pd.read_excel(f\"{DATA_PATH}/Cooling_degree_days_by_census_division.xls\", skiprows=10)\n",
    "df_consumption = pd.read_excel(f\"{DATA_PATH}/Residential_sector_energy_consumption.xls\", skiprows=10)\n",
    "df_average_prices = pd.read_excel(f\"{DATA_PATH}/Average_prices_of_electricity_to_ultimate_customers.xls\", skiprows=10)\n",
    "\n",
    "df_consumption = df_consumption[[\"Month\", \"Total Energy Consumed by the Residential Sector\"]]\n",
    "df_average_prices = df_average_prices[[\"Month\", \"Average Price of Electricity to Ultimate Customers, Total\", \"Average Price of Electricity to Ultimate Customers, Residential\"]]\n",
    "\n",
    "merged_df = pd.merge(df_heating, df_cooling, on='Month', how='inner')\n",
    "merged_df = pd.merge(merged_df, df_consumption, on='Month', how='inner')\n",
    "merged_df = pd.merge(merged_df, df_average_prices, on='Month', how='inner')\n",
    "merged_df = merged_df.drop(0)\n",
    "df_cleaned = merged_df[~merged_df.isin(['Not Available']).any(axis=1)]\n",
    "df_cleaned = df_cleaned.drop(columns=[\"Month\"])\n",
    "\n",
    "X, y = df_cleaned.drop(columns=[\"Total Energy Consumed by the Residential Sector\"]), df_cleaned[\"Total Energy Consumed by the Residential Sector\"]\n",
    "\n",
    "#scaler = StandardScaler()\n",
    "#X = scaler.fit_transform(X)\n",
    "\n",
    "X_train, X_test, y_train, y_test = train_test_split(X, y, test_size=0.2)\n",
    "\n",
    "# scaler = StandardScaler()\n",
    "# X_train = scaler.fit_transform(X_train)\n",
    "# X_test = scaler.transform(X_test)"
   ]
  },
  {
   "cell_type": "code",
   "execution_count": 2,
   "id": "733fbe49",
   "metadata": {},
   "outputs": [],
   "source": [
    "# ga = GeneticAlgorithm(\n",
    "#     pop_size=20,\n",
    "#     crossover_rate=0.8,\n",
    "#     mutation_rate=0.1,\n",
    "#     n_generations=10,\n",
    "# )\n",
    "\n",
    "# params, best = ga.run(\n",
    "#     X,\n",
    "#     y,\n",
    "# )"
   ]
  },
  {
   "cell_type": "code",
   "execution_count": 3,
   "id": "8c7dd4c5",
   "metadata": {},
   "outputs": [],
   "source": [
    "from pymoo.algorithms.soo.nonconvex.de import DE\n",
    "from pymoo.optimize import minimize\n",
    "\n",
    "problem = HyperparameterOptimizationProblem(X, y)\n",
    "de = DE(\n",
    "    pop_size=20,\n",
    "    variant=\"DE/best/1/bin\",\n",
    "    CR=0.8,\n",
    "    F=0.7,\n",
    "    jitter=False,\n",
    "    dither=\"vector\",\n",
    ")\n",
    "res = minimize(\n",
    "    problem,\n",
    "    de,\n",
    "    (\"n_gen\", 10)\n",
    ")"
   ]
  },
  {
   "cell_type": "code",
   "execution_count": 9,
   "id": "1c4fd903",
   "metadata": {},
   "outputs": [
    {
     "data": {
      "text/plain": [
       "array([-0.72105477])"
      ]
     },
     "execution_count": 9,
     "metadata": {},
     "output_type": "execute_result"
    }
   ],
   "source": [
    "res.F"
   ]
  },
  {
   "cell_type": "code",
   "execution_count": null,
   "id": "1a6ed9d4",
   "metadata": {},
   "outputs": [],
   "source": []
  },
  {
   "cell_type": "code",
   "execution_count": 4,
   "id": "0ee744ed",
   "metadata": {},
   "outputs": [],
   "source": [
    "# de = DifferentialEvolution(\n",
    "#     pop_size=30,\n",
    "#     crossover_rate=0.8,\n",
    "#     mutation_rate=0.7,\n",
    "#     n_generations=10,\n",
    "# )\n",
    "\n",
    "# params, best = de.run(\n",
    "#     X,\n",
    "#     y,\n",
    "# )"
   ]
  },
  {
   "cell_type": "code",
   "execution_count": 5,
   "id": "36620ec0",
   "metadata": {},
   "outputs": [],
   "source": [
    "# optuna_mlp = OptunaMLP(X, y, n_trials=20)\n",
    "# best_trial = optuna_mlp.run()"
   ]
  },
  {
   "cell_type": "code",
   "execution_count": 6,
   "id": "2adfe947",
   "metadata": {},
   "outputs": [
    {
     "ename": "NameError",
     "evalue": "name 'best_trial' is not defined",
     "output_type": "error",
     "traceback": [
      "\u001b[31m---------------------------------------------------------------------------\u001b[39m",
      "\u001b[31mNameError\u001b[39m                                 Traceback (most recent call last)",
      "\u001b[36mCell\u001b[39m\u001b[36m \u001b[39m\u001b[32mIn[6]\u001b[39m\u001b[32m, line 1\u001b[39m\n\u001b[32m----> \u001b[39m\u001b[32m1\u001b[39m \u001b[43mbest_trial\u001b[49m\n",
      "\u001b[31mNameError\u001b[39m: name 'best_trial' is not defined"
     ]
    }
   ],
   "source": [
    "best_trial"
   ]
  },
  {
   "cell_type": "code",
   "execution_count": null,
   "id": "f6a5a8c5",
   "metadata": {},
   "outputs": [],
   "source": [
    "params"
   ]
  },
  {
   "cell_type": "code",
   "execution_count": null,
   "id": "2bd28599",
   "metadata": {},
   "outputs": [],
   "source": [
    "mlp = best #MLPRegressor(hidden_layer_sizes=(20, 15, 10), max_iter=200)\n",
    "metrics = [\"r2\", \"neg_root_mean_squared_error\", \"neg_mean_absolute_error\"]"
   ]
  },
  {
   "cell_type": "code",
   "execution_count": null,
   "id": "e5bc113e",
   "metadata": {},
   "outputs": [],
   "source": [
    "scores_mlp = train_with_cross_val(mlp, X, y, metrics)\n",
    "mlp.fit(X_train, y_train)"
   ]
  },
  {
   "cell_type": "code",
   "execution_count": null,
   "id": "40052b50",
   "metadata": {},
   "outputs": [],
   "source": [
    "r2_score(y_test, mlp.predict(X_test))"
   ]
  },
  {
   "cell_type": "code",
   "execution_count": null,
   "id": "e776b5dc",
   "metadata": {},
   "outputs": [],
   "source": [
    "root_mean_squared_error(y_test, mlp.predict(X_test))"
   ]
  },
  {
   "cell_type": "code",
   "execution_count": null,
   "id": "014d453e",
   "metadata": {},
   "outputs": [],
   "source": [
    "for metric in [\"r2\", \"neg_root_mean_squared_error\", \"neg_mean_absolute_error\"]:\n",
    "    print(f\"MLP {metric}: {scores_mlp[metric].mean()}\")"
   ]
  },
  {
   "cell_type": "code",
   "execution_count": null,
   "id": "53a6446a",
   "metadata": {},
   "outputs": [],
   "source": [
    "scores_mlp"
   ]
  },
  {
   "cell_type": "code",
   "execution_count": null,
   "id": "0e81fe27",
   "metadata": {},
   "outputs": [],
   "source": [
    "for metric, scores in scores_mlp.items():\n",
    "    print(f\"{metric}: {scores.mean():.4f} ± {scores.std():.4f}\")"
   ]
  },
  {
   "cell_type": "code",
   "execution_count": null,
   "id": "facc34e0",
   "metadata": {},
   "outputs": [],
   "source": []
  }
 ],
 "metadata": {
  "kernelspec": {
   "display_name": "tcc",
   "language": "python",
   "name": "python3"
  },
  "language_info": {
   "codemirror_mode": {
    "name": "ipython",
    "version": 3
   },
   "file_extension": ".py",
   "mimetype": "text/x-python",
   "name": "python",
   "nbconvert_exporter": "python",
   "pygments_lexer": "ipython3",
   "version": "3.13.0"
  }
 },
 "nbformat": 4,
 "nbformat_minor": 5
}
